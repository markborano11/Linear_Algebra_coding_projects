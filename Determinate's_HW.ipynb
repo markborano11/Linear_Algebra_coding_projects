{
  "nbformat": 4,
  "nbformat_minor": 0,
  "metadata": {
    "colab": {
      "name": "Determinate's HW ",
      "provenance": [],
      "include_colab_link": true
    },
    "kernelspec": {
      "name": "python3",
      "display_name": "Python 3"
    }
  },
  "cells": [
    {
      "cell_type": "markdown",
      "metadata": {
        "id": "view-in-github",
        "colab_type": "text"
      },
      "source": [
        "<a href=\"https://colab.research.google.com/github/markborano11/Linear_Algebra_coding_projects/blob/main/Determinate's_HW.ipynb\" target=\"_parent\"><img src=\"https://colab.research.google.com/assets/colab-badge.svg\" alt=\"Open In Colab\"/></a>"
      ]
    },
    {
      "cell_type": "code",
      "metadata": {
        "id": "kn0fqau_uC9n"
      },
      "source": [
        "#  Import numpy:\n",
        "\n",
        "\n",
        "import matplotlib.pyplot as plt\n",
        "from sympy import Poly\n",
        "import sympy as sym\n",
        "import numpy as np\n",
        "from numpy import c_\n",
        "\n",
        "# We'll specify that x and t are variables:\n",
        "x, t = sym.symbols('x, t')\n",
        "\n",
        "ll = \"loaded\""
      ],
      "execution_count": null,
      "outputs": []
    },
    {
      "cell_type": "code",
      "metadata": {
        "id": "S1opBqOLuG26",
        "colab": {
          "base_uri": "https://localhost:8080/"
        },
        "outputId": "c8a4b961-48ae-430f-b7ec-fac542f8b46c"
      },
      "source": [
        "# create the matrix:\n",
        "P = np.matrix([[-10, -1],\n",
        "               [-4, 7]])\n",
        "               \n",
        "               \n",
        "\n",
        "Q = np.matrix([[1, -3],\n",
        "               [7, 7]])\n",
        "              \n",
        "               \n",
        "\n",
        "R = P*Q\n",
        "R\n",
        "\n"
      ],
      "execution_count": null,
      "outputs": [
        {
          "output_type": "execute_result",
          "data": {
            "text/plain": [
              "matrix([[-17,  23],\n",
              "        [ 45,  61]])"
            ]
          },
          "metadata": {},
          "execution_count": 2
        }
      ]
    },
    {
      "cell_type": "code",
      "metadata": {
        "id": "_Cp91b4TuKkw",
        "colab": {
          "base_uri": "https://localhost:8080/"
        },
        "outputId": "5aa59836-fbff-4e77-9fc1-1c683a738722"
      },
      "source": [
        "np.linalg.det(P)\n",
        "np.linalg.det(Q)\n",
        "np.linalg.det(P*Q)"
      ],
      "execution_count": null,
      "outputs": [
        {
          "output_type": "execute_result",
          "data": {
            "text/plain": [
              "-2071.9999999999995"
            ]
          },
          "metadata": {},
          "execution_count": 3
        }
      ]
    },
    {
      "cell_type": "code",
      "metadata": {
        "id": "cH2LfxlkucJg"
      },
      "source": [
        ""
      ],
      "execution_count": null,
      "outputs": []
    }
  ]
}