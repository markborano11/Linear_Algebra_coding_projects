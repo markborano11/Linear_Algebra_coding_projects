{
  "nbformat": 4,
  "nbformat_minor": 0,
  "metadata": {
    "colab": {
      "name": "Copy of Math_242_secret_number.ipynb",
      "provenance": [],
      "collapsed_sections": [],
      "include_colab_link": true
    },
    "kernelspec": {
      "name": "python3",
      "display_name": "Python 3"
    }
  },
  "cells": [
    {
      "cell_type": "markdown",
      "metadata": {
        "id": "view-in-github",
        "colab_type": "text"
      },
      "source": [
        "<a href=\"https://colab.research.google.com/github/markborano11/Linear_Algebra_coding_projects/blob/main/Copy_of_Math_242_secret_number.ipynb\" target=\"_parent\"><img src=\"https://colab.research.google.com/assets/colab-badge.svg\" alt=\"Open In Colab\"/></a>"
      ]
    },
    {
      "cell_type": "markdown",
      "metadata": {
        "id": "Ry_o-kLL_-wf"
      },
      "source": [
        "# Load the preliminary code"
      ]
    },
    {
      "cell_type": "code",
      "metadata": {
        "id": "dhOLtwrRRc9S"
      },
      "source": [
        "import matplotlib.pyplot as plt\n",
        "from sympy import Poly\n",
        "import sympy as sym\n",
        "import numpy as np\n",
        "from numpy import c_\n",
        "\n",
        "# We'll specify that x and t are variables:\n",
        "x, t = sym.symbols('x, t')\n",
        "\n",
        "ll = \"loaded\""
      ],
      "execution_count": null,
      "outputs": []
    },
    {
      "cell_type": "code",
      "metadata": {
        "id": "AHRXKhal_Wcj",
        "colab": {
          "base_uri": "https://localhost:8080/"
        },
        "outputId": "f797e27d-74a9-4e01-d745-d6c38a4aeca2"
      },
      "source": [
        "lll = \" correctly!\"\n",
        "\n",
        "def rref(matrix):\n",
        "    A = np.array(matrix, dtype=np.float64)\n",
        "    \n",
        "    r = 0 #row\n",
        "    c = 0 #column\n",
        "\n",
        "    (maxr, maxc) = A.shape\n",
        "\n",
        "    prev_row_pivot = -1   # The previous row with a leading term:\n",
        "    tmp_pivot_row = -1\n",
        "    this_pivot_row = -1\n",
        "\n",
        "    for c in range(maxc):  # go through each column\n",
        "      tmp_pivot_row = -1  # reset the tmp pivot row\n",
        "      this_pivot_row = -1  # reset this pivot row\n",
        "      for r in range(maxr):  # Find the leading term in this column below prev_row_pivot\n",
        "        if ((r > prev_row_pivot) and (A[r][c] != 0.0)):\n",
        "          tmp_pivot_row = r  # find the new pivot row\n",
        "      if (tmp_pivot_row > -1):  # we found a candidate for the leading term:\n",
        "        #swap row this_pivot_row with (prev_row_pivot + 1)\n",
        "        A[[tmp_pivot_row, prev_row_pivot+1]] = A[[prev_row_pivot + 1, tmp_pivot_row]]\n",
        "        #set this_pivot_row to prev_row_pivot+1\n",
        "        this_pivot_row = prev_row_pivot + 1\n",
        "        #Now, normalize the row based on the pivot value:\n",
        "        A[ this_pivot_row ] = A[ this_pivot_row ] / A[ this_pivot_row ][c]\n",
        "        #Then, use this row to force 0's above and below the pivot entry:\n",
        "        #subtract multiples of of the this_pivot_row row from the others\n",
        "        for r_ in range(len(A)):\n",
        "            if r_ != this_pivot_row:\n",
        "                A[r_] = A[r_] - A[this_pivot_row] * A[r_][c] / A[this_pivot_row][c]\n",
        "        prev_row_pivot = this_pivot_row\n",
        "    return A    \n",
        "    \n",
        "    \n",
        "\n",
        "print(\">> The page \", ll, lll)"
      ],
      "execution_count": null,
      "outputs": [
        {
          "output_type": "stream",
          "name": "stdout",
          "text": [
            ">> The page  loaded  correctly!\n"
          ]
        }
      ]
    },
    {
      "cell_type": "markdown",
      "metadata": {
        "id": "xVLAg1tp7aJX"
      },
      "source": [
        "# Set up the secret number"
      ]
    },
    {
      "cell_type": "markdown",
      "metadata": {
        "id": "2c12Csd440sV"
      },
      "source": [
        "You'll encode a secret number $s$ into a 4th or 5th degree polynomial as its vertical intercept.\n",
        "\n",
        "Once you've chosen $s$, then create a 4th or 5th degree polynomial $f$ such that the vertical intercept is $s$.\n"
      ]
    },
    {
      "cell_type": "code",
      "metadata": {
        "id": "bSeZFmS4vQWk",
        "colab": {
          "base_uri": "https://localhost:8080/",
          "height": 38
        },
        "outputId": "8150cb95-57e8-43e9-d453-ef48b34e75af"
      },
      "source": [
        "# the secret number is s:\n",
        "\n",
        "s = -13*(np.pi) \n",
        "\n",
        "p = Poly(-13*(np.pi)+(1/2)*x - 6*x**3 + 2*x**4, x, domain='RR')\n",
        "\n",
        "p"
      ],
      "execution_count": null,
      "outputs": [
        {
          "output_type": "execute_result",
          "data": {
            "text/latex": "$\\displaystyle \\operatorname{Poly}{\\left( 2.0 x^{4} - 6.0 x^{3} + 0.5 x - 40.8407044966673, x, domain=\\mathbb{R} \\right)}$",
            "text/plain": [
              "Poly(2.0*x**4 - 6.0*x**3 + 0.5*x - 40.8407044966673, x, domain='RR')"
            ]
          },
          "metadata": {},
          "execution_count": 11
        }
      ]
    },
    {
      "cell_type": "code",
      "metadata": {
        "id": "buHLWqEJ5Hds",
        "colab": {
          "base_uri": "https://localhost:8080/",
          "height": 37
        },
        "outputId": "40c08b26-7355-4b7f-f927-be3876dec131"
      },
      "source": [
        "#  Change this to evaluate the polynomial at 0:\n",
        "p.eval(x, 2.1)\n",
        "\n",
        "# Check that this is your secret number:"
      ],
      "execution_count": null,
      "outputs": [
        {
          "output_type": "execute_result",
          "data": {
            "text/latex": "$\\displaystyle 1892660.57719015$",
            "text/plain": [
              "1892660.57719015"
            ]
          },
          "metadata": {},
          "execution_count": 4
        }
      ]
    },
    {
      "cell_type": "markdown",
      "metadata": {
        "id": "ls3V1Lrnyr2P"
      },
      "source": [
        "# Generate your data points\n",
        "\n",
        "Use this code to generate the data points for your polynomial.  Write the data on the second page of your handout.  \n",
        "\n",
        "Writing \n",
        "\n",
        "```\n",
        "p.eval(x, 3)\n",
        "```\n",
        "\n",
        "will evaluate $p$ when $x = 3$.  Just change the $3$ to any value to evaluate $p$ at that input.\n",
        "\n",
        "Remember:  Keep your secret number and polynomial hidden."
      ]
    },
    {
      "cell_type": "code",
      "metadata": {
        "id": "5Ef1euoHynYu",
        "colab": {
          "base_uri": "https://localhost:8080/",
          "height": 37
        },
        "outputId": "77206357-1659-44ea-9122-b1c36f43f983"
      },
      "source": [
        "p.eval(x, -3.5)"
      ],
      "execution_count": null,
      "outputs": [
        {
          "output_type": "execute_result",
          "data": {
            "text/latex": "$\\displaystyle 514.784295503333$",
            "text/plain": [
              "514.784295503333"
            ]
          },
          "metadata": {},
          "execution_count": 19
        }
      ]
    },
    {
      "cell_type": "markdown",
      "metadata": {
        "id": "a6e9mXs-z3qV"
      },
      "source": [
        "#  Decode the polynomial from another group\n",
        "\n",
        "In this section, we set up a linear system to find the polynomial and the secret number which was given to us by another group.\n",
        "\n",
        "First, set up a linear algebra system to find the polynomial on the handout and then enter the matrix here.  You may have to adjust the size of the matrix below to accommodate your data."
      ]
    },
    {
      "cell_type": "code",
      "metadata": {
        "id": "aC4OSnZ20YDh",
        "colab": {
          "base_uri": "https://localhost:8080/"
        },
        "outputId": "342eff25-6c49-472e-c8a2-f0a8e9a9702d"
      },
      "source": [
        "# create the matrix:\n",
        "A = np.matrix([[ 1, 7**.5, 7**1, 7**1.5, 7**2,7**2.5],\n",
        "               [ 1, 2, 4, 2**3, 2**4, 2**5],\n",
        "               [ 1, -2, (-2)**2, (-2)**3 ,(-2)**4 ,(-2)**5 ],\n",
        "               [ 1, .1, .1**2,.1**3 ,.1**4 ,.1**5 ],\n",
        "               [ 1, 10,10**2 , 10**3,10**4 ,10**5 ],\n",
        "               [ 1, 10**.5,10**1 ,10**1.5 ,10**2 ,10**2.5 ]])\n",
        " \n",
        "\n",
        "# create the vector for the right hand side:\n",
        "b = np.matrix([[1844.244019], [685.4142135], [-914.5857864], [4.1528], [62781.41421356], [3639.2961696]])\n",
        "\n",
        "#Make sure the system looks appropriate:\n",
        "\n",
        "print(np.c_[A,b])"
      ],
      "execution_count": null,
      "outputs": [
        {
          "output_type": "stream",
          "name": "stdout",
          "text": [
            "[[ 1.00000000e+00  2.64575131e+00  7.00000000e+00  1.85202592e+01\n",
            "   4.90000000e+01  1.29641814e+02  1.84424402e+03]\n",
            " [ 1.00000000e+00  2.00000000e+00  4.00000000e+00  8.00000000e+00\n",
            "   1.60000000e+01  3.20000000e+01  6.85414213e+02]\n",
            " [ 1.00000000e+00 -2.00000000e+00  4.00000000e+00 -8.00000000e+00\n",
            "   1.60000000e+01 -3.20000000e+01 -9.14585786e+02]\n",
            " [ 1.00000000e+00  1.00000000e-01  1.00000000e-02  1.00000000e-03\n",
            "   1.00000000e-04  1.00000000e-05  4.15280000e+00]\n",
            " [ 1.00000000e+00  1.00000000e+01  1.00000000e+02  1.00000000e+03\n",
            "   1.00000000e+04  1.00000000e+05  6.27814142e+04]\n",
            " [ 1.00000000e+00  3.16227766e+00  1.00000000e+01  3.16227766e+01\n",
            "   1.00000000e+02  3.16227766e+02  3.63929617e+03]]\n"
          ]
        }
      ]
    },
    {
      "cell_type": "markdown",
      "metadata": {
        "id": "EDZT8emc5iGZ"
      },
      "source": [
        "##  Solve using Row Operations:\n",
        "\n",
        "We'll solve the augmented matrix  $\\left( A \\, | \\, \\vec{b} \\right)$ using the function\n",
        "\n",
        "```\n",
        "rref(np.c_[A,b])\n",
        "```\n",
        "\n",
        "to provide the reduced row echelon form of the matrix system $\\left(A \\, | \\, \\vec{b} \\right)$.\n"
      ]
    },
    {
      "cell_type": "code",
      "metadata": {
        "id": "9Qhe2zZjYAVL",
        "colab": {
          "base_uri": "https://localhost:8080/"
        },
        "outputId": "6a6585aa-a2c1-47e8-9c98-be73067695da"
      },
      "source": [
        "print(rref(np.c_[A,b]))"
      ],
      "execution_count": null,
      "outputs": [
        {
          "output_type": "stream",
          "name": "stdout",
          "text": [
            "[[   1.            0.            0.            0.            0.\n",
            "     0.          -38.16396837]\n",
            " [  -0.            1.            0.            0.            0.\n",
            "     0.          451.25589457]\n",
            " [   0.            0.            1.            0.            0.\n",
            "     0.         -282.58407008]\n",
            " [   0.            0.            0.            1.            0.\n",
            "     0.           10.49090714]\n",
            " [  -0.           -0.           -0.           -0.            1.\n",
            "     0.           65.86965389]\n",
            " [   0.            0.            0.            0.            0.\n",
            "     1.           -5.8262202 ]]\n"
          ]
        }
      ]
    },
    {
      "cell_type": "markdown",
      "metadata": {
        "id": "6xHgTqYr1fuP"
      },
      "source": [
        "## Solve the system using numerical methods:\n",
        "\n",
        "We can also generate a solution using some more advanced numerical linear algebra techniques contained inside Numpy.\n",
        "\n",
        "To solve it this way, use:\n",
        "\n",
        "\n",
        "\n",
        "```\n",
        "np.linalg.solve(A,b)\n",
        "```\n",
        "\n",
        "or\n",
        "\n",
        "```\n",
        "np.linalg.lstsq(A,b,rcond=None)\n",
        "```\n",
        "\n"
      ]
    },
    {
      "cell_type": "code",
      "metadata": {
        "id": "769dXoztlBcx",
        "colab": {
          "base_uri": "https://localhost:8080/"
        },
        "outputId": "7403fb4f-71f4-4096-f6dd-c44be4ee15c8"
      },
      "source": [
        "# Solve the system using a numerical linear algebra solution:\n",
        "np.linalg.solve(A,b)"
      ],
      "execution_count": null,
      "outputs": [
        {
          "output_type": "execute_result",
          "data": {
            "text/plain": [
              "matrix([[ -38.16396837],\n",
              "        [ 451.25589457],\n",
              "        [-282.58407008],\n",
              "        [  10.49090714],\n",
              "        [  65.86965389],\n",
              "        [  -5.8262202 ]])"
            ]
          },
          "metadata": {},
          "execution_count": 42
        }
      ]
    },
    {
      "cell_type": "code",
      "metadata": {
        "id": "ZEjNcqQvQbYo",
        "colab": {
          "base_uri": "https://localhost:8080/"
        },
        "outputId": "f52d1d29-5ba7-4bad-9417-9ecfce394ebe"
      },
      "source": [
        "# Solve the system using the numerical least squares method:\n",
        "np.linalg.lstsq(A,b,rcond=None)"
      ],
      "execution_count": null,
      "outputs": [
        {
          "output_type": "execute_result",
          "data": {
            "text/plain": [
              "(matrix([[ -40.83724106],\n",
              "         [ 453.37898699],\n",
              "         [-282.42084562],\n",
              "         [   9.99208576],\n",
              "         [  65.99592732],\n",
              "         [  -5.83420813]]),\n",
              " matrix([], shape=(1, 0), dtype=float64),\n",
              " 6,\n",
              " array([1.00504406e+05, 8.73297078e+01, 1.50865016e+01, 3.00123813e+00,\n",
              "        9.38420496e-01, 1.48245331e-01]))"
            ]
          },
          "metadata": {},
          "execution_count": 39
        }
      ]
    },
    {
      "cell_type": "code",
      "metadata": {
        "id": "TyHn7IcfvGRj"
      },
      "source": [
        ""
      ],
      "execution_count": null,
      "outputs": []
    }
  ]
}