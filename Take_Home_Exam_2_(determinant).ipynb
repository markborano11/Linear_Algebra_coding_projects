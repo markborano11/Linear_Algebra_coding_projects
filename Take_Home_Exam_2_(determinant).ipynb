{
  "nbformat": 4,
  "nbformat_minor": 0,
  "metadata": {
    "colab": {
      "name": "Take Home Exam 2 (determinant).ipynb",
      "provenance": [],
      "include_colab_link": true
    },
    "kernelspec": {
      "name": "python3",
      "display_name": "Python 3"
    }
  },
  "cells": [
    {
      "cell_type": "markdown",
      "metadata": {
        "id": "view-in-github",
        "colab_type": "text"
      },
      "source": [
        "<a href=\"https://colab.research.google.com/github/markborano11/Linear_Algebra_coding_projects/blob/main/Take_Home_Exam_2_(determinant).ipynb\" target=\"_parent\"><img src=\"https://colab.research.google.com/assets/colab-badge.svg\" alt=\"Open In Colab\"/></a>"
      ]
    },
    {
      "cell_type": "code",
      "metadata": {
        "id": "kn0fqau_uC9n"
      },
      "source": [
        "#  Import numpy:\n",
        "\n",
        "import matplotlib.pyplot as plt\n",
        "from sympy import Poly\n",
        "import sympy as sym\n",
        "import numpy as np\n",
        "from numpy import c_\n",
        "\n",
        "# We'll specify that x and t are variables:\n",
        "x, t = sym.symbols('x, t')\n",
        "\n",
        "ll = \"loaded\""
      ],
      "execution_count": null,
      "outputs": []
    },
    {
      "cell_type": "code",
      "metadata": {
        "id": "S1opBqOLuG26"
      },
      "source": [
        "# create the matrix:\n",
        "P = np.matrix([[2, 4, 8, 0],\n",
        "               [0, 4, -2, 0],\n",
        "               [2, -0.5, 2, -.025],\n",
        "               [4, 0, 2, 1]])\n",
        "               \n",
        "               \n",
        "\n",
        "\n"
      ],
      "execution_count": null,
      "outputs": []
    },
    {
      "cell_type": "code",
      "metadata": {
        "id": "_Cp91b4TuKkw",
        "colab": {
          "base_uri": "https://localhost:8080/"
        },
        "outputId": "f381a2be-2533-41bb-e502-b0fdc977bc61"
      },
      "source": [
        "np.linalg.det(P)"
      ],
      "execution_count": null,
      "outputs": [
        {
          "output_type": "execute_result",
          "data": {
            "text/plain": [
              "-69.60000000000001"
            ]
          },
          "metadata": {},
          "execution_count": 9
        }
      ]
    },
    {
      "cell_type": "code",
      "metadata": {
        "id": "cH2LfxlkucJg"
      },
      "source": [
        ""
      ],
      "execution_count": null,
      "outputs": []
    }
  ]
}